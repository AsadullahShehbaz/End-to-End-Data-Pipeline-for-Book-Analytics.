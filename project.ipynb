{
 "cells": [
  {
   "cell_type": "markdown",
   "id": "e3b8ba3b",
   "metadata": {},
   "source": [
    "# **Task 5: End-to-End Data Pipeline for Book Analytics**\n",
    "Expected duration: 5 days\n",
    "\n",
    "Task Overview\n",
    "## **Objective**:\n",
    "\n",
    "Build a complete data pipeline to analyze IMDB-style Book Data using Python, SQL, and a visualization dashboard.\n",
    "\n",
    "## **Deliverables**:\n",
    "\n",
    "- **Data Ingestion**\\\n",
    "Load mock book data from a CSV file or simulate data from an API using Python.\n",
    "- **Data Cleaning**\\\n",
    "Handle missing values, duplicates, and outliers in book-related fields such as ratings, votes, and publication year.\n",
    "- **SQL Schema Design and Population**\n",
    "    * Design a normalized database schema for storing the book data using SQLite or PostgreSQL.\n",
    "    * Populate the database using the cleaned dataset.\n",
    "- **Interactive Dashboard (Streamlit or Dash)**\\\n",
    "Build a web-based dashboard that allows users to filter and visualize:\n",
    "    * Average book ratings by genre\n",
    "    * Top-rated books by year\n",
    "    * Revenue vs. votes\n",
    "    * Book count by genre over the years\n"
   ]
  },
  {
   "cell_type": "markdown",
   "id": "76aeb408",
   "metadata": {},
   "source": [
    "# **1.Data Ingestion**"
   ]
  },
  {
   "cell_type": "code",
   "execution_count": 112,
   "id": "727d9d26",
   "metadata": {},
   "outputs": [
    {
     "data": {
      "text/html": [
       "<div>\n",
       "<style scoped>\n",
       "    .dataframe tbody tr th:only-of-type {\n",
       "        vertical-align: middle;\n",
       "    }\n",
       "\n",
       "    .dataframe tbody tr th {\n",
       "        vertical-align: top;\n",
       "    }\n",
       "\n",
       "    .dataframe thead th {\n",
       "        text-align: right;\n",
       "    }\n",
       "</style>\n",
       "<table border=\"1\" class=\"dataframe\">\n",
       "  <thead>\n",
       "    <tr style=\"text-align: right;\">\n",
       "      <th></th>\n",
       "      <th>BookID</th>\n",
       "      <th>Title</th>\n",
       "      <th>Genre</th>\n",
       "      <th>PublicationYear</th>\n",
       "      <th>Rating</th>\n",
       "      <th>Votes</th>\n",
       "      <th>RevenueMillions</th>\n",
       "    </tr>\n",
       "  </thead>\n",
       "  <tbody>\n",
       "    <tr>\n",
       "      <th>0</th>\n",
       "      <td>0</td>\n",
       "      <td>Book 0</td>\n",
       "      <td>Romance</td>\n",
       "      <td>2011</td>\n",
       "      <td>4.2</td>\n",
       "      <td>3862</td>\n",
       "      <td>32.22</td>\n",
       "    </tr>\n",
       "    <tr>\n",
       "      <th>1</th>\n",
       "      <td>1</td>\n",
       "      <td>Book 1</td>\n",
       "      <td>Non-Fiction</td>\n",
       "      <td>2020</td>\n",
       "      <td>3.5</td>\n",
       "      <td>13170</td>\n",
       "      <td>4.41</td>\n",
       "    </tr>\n",
       "    <tr>\n",
       "      <th>2</th>\n",
       "      <td>2</td>\n",
       "      <td>Book 2</td>\n",
       "      <td>Science Fiction</td>\n",
       "      <td>1973</td>\n",
       "      <td>4.3</td>\n",
       "      <td>16332</td>\n",
       "      <td>37.19</td>\n",
       "    </tr>\n",
       "    <tr>\n",
       "      <th>3</th>\n",
       "      <td>3</td>\n",
       "      <td>Book 3</td>\n",
       "      <td>Non-Fiction</td>\n",
       "      <td>1988</td>\n",
       "      <td>4.3</td>\n",
       "      <td>397</td>\n",
       "      <td>10.51</td>\n",
       "    </tr>\n",
       "    <tr>\n",
       "      <th>4</th>\n",
       "      <td>4</td>\n",
       "      <td>Book 4</td>\n",
       "      <td>Non-Fiction</td>\n",
       "      <td>2017</td>\n",
       "      <td>3.8</td>\n",
       "      <td>46901</td>\n",
       "      <td>19.48</td>\n",
       "    </tr>\n",
       "  </tbody>\n",
       "</table>\n",
       "</div>"
      ],
      "text/plain": [
       "   BookID   Title            Genre  PublicationYear  Rating  Votes  \\\n",
       "0       0  Book 0          Romance             2011     4.2   3862   \n",
       "1       1  Book 1      Non-Fiction             2020     3.5  13170   \n",
       "2       2  Book 2  Science Fiction             1973     4.3  16332   \n",
       "3       3  Book 3      Non-Fiction             1988     4.3    397   \n",
       "4       4  Book 4      Non-Fiction             2017     3.8  46901   \n",
       "\n",
       "   RevenueMillions  \n",
       "0            32.22  \n",
       "1             4.41  \n",
       "2            37.19  \n",
       "3            10.51  \n",
       "4            19.48  "
      ]
     },
     "execution_count": 112,
     "metadata": {},
     "output_type": "execute_result"
    }
   ],
   "source": [
    "import pandas as pd\n",
    "import numpy as np\n",
    "import matplotlib.pyplot as plt\n",
    "import seaborn as sns\n",
    "\n",
    "# Read the csv dataset \n",
    "df = pd.read_csv('data/books.csv')\n",
    "df.head()"
   ]
  },
  {
   "cell_type": "code",
   "execution_count": 102,
   "id": "80d31f92",
   "metadata": {},
   "outputs": [
    {
     "name": "stdout",
     "output_type": "stream",
     "text": [
      "(10000, 7)\n",
      "<class 'pandas.core.frame.DataFrame'>\n",
      "RangeIndex: 10000 entries, 0 to 9999\n",
      "Data columns (total 7 columns):\n",
      " #   Column           Non-Null Count  Dtype  \n",
      "---  ------           --------------  -----  \n",
      " 0   BookID           10000 non-null  int64  \n",
      " 1   Title            10000 non-null  object \n",
      " 2   Genre            10000 non-null  object \n",
      " 3   PublicationYear  10000 non-null  int64  \n",
      " 4   Rating           10000 non-null  float64\n",
      " 5   Votes            10000 non-null  int64  \n",
      " 6   RevenueMillions  10000 non-null  float64\n",
      "dtypes: float64(2), int64(3), object(2)\n",
      "memory usage: 547.0+ KB\n",
      "None\n"
     ]
    }
   ],
   "source": [
    "print(df.shape)          # Rows & columns\n",
    "print(df.info())         # Data types\n"
   ]
  },
  {
   "cell_type": "code",
   "execution_count": 103,
   "id": "c71a314e",
   "metadata": {},
   "outputs": [
    {
     "data": {
      "text/html": [
       "<div>\n",
       "<style scoped>\n",
       "    .dataframe tbody tr th:only-of-type {\n",
       "        vertical-align: middle;\n",
       "    }\n",
       "\n",
       "    .dataframe tbody tr th {\n",
       "        vertical-align: top;\n",
       "    }\n",
       "\n",
       "    .dataframe thead th {\n",
       "        text-align: right;\n",
       "    }\n",
       "</style>\n",
       "<table border=\"1\" class=\"dataframe\">\n",
       "  <thead>\n",
       "    <tr style=\"text-align: right;\">\n",
       "      <th></th>\n",
       "      <th>BookID</th>\n",
       "      <th>PublicationYear</th>\n",
       "      <th>Rating</th>\n",
       "      <th>Votes</th>\n",
       "      <th>RevenueMillions</th>\n",
       "    </tr>\n",
       "  </thead>\n",
       "  <tbody>\n",
       "    <tr>\n",
       "      <th>count</th>\n",
       "      <td>10000.00000</td>\n",
       "      <td>10000.00000</td>\n",
       "      <td>10000.000000</td>\n",
       "      <td>10000.000000</td>\n",
       "      <td>10000.000000</td>\n",
       "    </tr>\n",
       "    <tr>\n",
       "      <th>mean</th>\n",
       "      <td>4999.50000</td>\n",
       "      <td>1986.48960</td>\n",
       "      <td>4.003170</td>\n",
       "      <td>24816.082800</td>\n",
       "      <td>25.163221</td>\n",
       "    </tr>\n",
       "    <tr>\n",
       "      <th>std</th>\n",
       "      <td>2886.89568</td>\n",
       "      <td>21.42787</td>\n",
       "      <td>0.694034</td>\n",
       "      <td>14394.196041</td>\n",
       "      <td>14.432541</td>\n",
       "    </tr>\n",
       "    <tr>\n",
       "      <th>min</th>\n",
       "      <td>0.00000</td>\n",
       "      <td>1950.00000</td>\n",
       "      <td>0.900000</td>\n",
       "      <td>12.000000</td>\n",
       "      <td>0.100000</td>\n",
       "    </tr>\n",
       "    <tr>\n",
       "      <th>25%</th>\n",
       "      <td>2499.75000</td>\n",
       "      <td>1968.00000</td>\n",
       "      <td>3.500000</td>\n",
       "      <td>12374.500000</td>\n",
       "      <td>12.760000</td>\n",
       "    </tr>\n",
       "    <tr>\n",
       "      <th>50%</th>\n",
       "      <td>4999.50000</td>\n",
       "      <td>1987.00000</td>\n",
       "      <td>4.000000</td>\n",
       "      <td>24755.500000</td>\n",
       "      <td>25.080000</td>\n",
       "    </tr>\n",
       "    <tr>\n",
       "      <th>75%</th>\n",
       "      <td>7499.25000</td>\n",
       "      <td>2005.00000</td>\n",
       "      <td>4.500000</td>\n",
       "      <td>37189.000000</td>\n",
       "      <td>37.810000</td>\n",
       "    </tr>\n",
       "    <tr>\n",
       "      <th>max</th>\n",
       "      <td>9999.00000</td>\n",
       "      <td>2023.00000</td>\n",
       "      <td>6.900000</td>\n",
       "      <td>49991.000000</td>\n",
       "      <td>49.990000</td>\n",
       "    </tr>\n",
       "  </tbody>\n",
       "</table>\n",
       "</div>"
      ],
      "text/plain": [
       "            BookID  PublicationYear        Rating         Votes  \\\n",
       "count  10000.00000      10000.00000  10000.000000  10000.000000   \n",
       "mean    4999.50000       1986.48960      4.003170  24816.082800   \n",
       "std     2886.89568         21.42787      0.694034  14394.196041   \n",
       "min        0.00000       1950.00000      0.900000     12.000000   \n",
       "25%     2499.75000       1968.00000      3.500000  12374.500000   \n",
       "50%     4999.50000       1987.00000      4.000000  24755.500000   \n",
       "75%     7499.25000       2005.00000      4.500000  37189.000000   \n",
       "max     9999.00000       2023.00000      6.900000  49991.000000   \n",
       "\n",
       "       RevenueMillions  \n",
       "count     10000.000000  \n",
       "mean         25.163221  \n",
       "std          14.432541  \n",
       "min           0.100000  \n",
       "25%          12.760000  \n",
       "50%          25.080000  \n",
       "75%          37.810000  \n",
       "max          49.990000  "
      ]
     },
     "execution_count": 103,
     "metadata": {},
     "output_type": "execute_result"
    }
   ],
   "source": [
    "df.describe()   # Summary statistics"
   ]
  },
  {
   "cell_type": "markdown",
   "id": "12ad0f88",
   "metadata": {},
   "source": [
    "# **2.Data Cleaning**"
   ]
  },
  {
   "cell_type": "code",
   "execution_count": 35,
   "id": "2a54b3e8",
   "metadata": {},
   "outputs": [
    {
     "data": {
      "text/plain": [
       "BookID             False\n",
       "Title              False\n",
       "Genre              False\n",
       "PublicationYear    False\n",
       "Rating             False\n",
       "Votes              False\n",
       "RevenueMillions    False\n",
       "dtype: bool"
      ]
     },
     "execution_count": 35,
     "metadata": {},
     "output_type": "execute_result"
    }
   ],
   "source": [
    "df.isnull().any()"
   ]
  },
  {
   "cell_type": "code",
   "execution_count": 36,
   "id": "6d382d4a",
   "metadata": {},
   "outputs": [
    {
     "data": {
      "text/plain": [
       "np.int64(0)"
      ]
     },
     "execution_count": 36,
     "metadata": {},
     "output_type": "execute_result"
    }
   ],
   "source": [
    "df.duplicated().sum()"
   ]
  },
  {
   "cell_type": "code",
   "execution_count": 37,
   "id": "9fda5fe6",
   "metadata": {},
   "outputs": [
    {
     "data": {
      "image/png": "[encoded data removed]",
      "text/plain": [
       "<Figure size 640x480 with 1 Axes>"
      ]
     },
     "metadata": {},
     "output_type": "display_data"
    },
    {
     "data": {
      "image/png": "[encoded data removed]",
      "text/plain": [
       "<Figure size 640x480 with 1 Axes>"
      ]
     },
     "metadata": {},
     "output_type": "display_data"
    },
    {
     "data": {
      "image/png": "[encoded data removed]",
      "text/plain": [
       "<Figure size 640x480 with 1 Axes>"
      ]
     },
     "metadata": {},
     "output_type": "display_data"
    },
    {
     "data": {
      "image/png": "[encoded data removed]",
      "text/plain": [
       "<Figure size 640x480 with 1 Axes>"
      ]
     },
     "metadata": {},
     "output_type": "display_data"
    },
    {
     "data": {
      "image/png": "[encoded data removed]",
      "text/plain": [
       "<Figure size 640x480 with 1 Axes>"
      ]
     },
     "metadata": {},
     "output_type": "display_data"
    }
   ],
   "source": [
    "num_cols = df.select_dtypes(include=np.number)\n",
    " \n",
    "import seaborn as sns\n",
    "# plot boxplot for outlier detection \n",
    "for col in num_cols:\n",
    "    sns.boxplot(x=df[col])\n",
    "    plt.show()"
   ]
  },
  {
   "cell_type": "code",
   "execution_count": 38,
   "id": "702ec51c",
   "metadata": {},
   "outputs": [
    {
     "data": {
      "text/plain": [
       "BookID               int64\n",
       "Title               object\n",
       "Genre               object\n",
       "PublicationYear      int32\n",
       "Rating             float64\n",
       "Votes                int32\n",
       "RevenueMillions    float64\n",
       "dtype: object"
      ]
     },
     "execution_count": 38,
     "metadata": {},
     "output_type": "execute_result"
    }
   ],
   "source": [
    "df.dtypes"
   ]
  },
  {
   "cell_type": "code",
   "execution_count": 39,
   "id": "66d2f1c4",
   "metadata": {},
   "outputs": [
    {
     "data": {
      "text/plain": [
       "np.float64(0.1)"
      ]
     },
     "execution_count": 39,
     "metadata": {},
     "output_type": "execute_result"
    }
   ],
   "source": [
    "df['RevenueMillions'].min()\n"
   ]
  },
  {
   "cell_type": "markdown",
   "id": "6dd83628",
   "metadata": {},
   "source": [
    "# **3.SQL Schema Design and Population** "
   ]
  },
  {
   "cell_type": "code",
   "execution_count": 41,
   "id": "0152f59b",
   "metadata": {},
   "outputs": [],
   "source": [
    "# 1. Create & Connect Database\n",
    "import sqlite3\n",
    "connection = sqlite3.connect(\"D:/Data Science/Codes/Internship/Task 5/database.db\")\n",
    "\n",
    "cursor = connection.cursor()\n"
   ]
  },
  {
   "cell_type": "code",
   "execution_count": 94,
   "id": "cbf10b36",
   "metadata": {},
   "outputs": [],
   "source": [
    "tables = {\n",
    "    \"genres\":'''\n",
    "        create table if not exists genres (\n",
    "        id integer primary key autoincrement,\n",
    "        name varchar(100) unique\n",
    "        )\n",
    "    ''',\n",
    "    \"books\":'''\n",
    "        create table if not exists books (\n",
    "        id integer primary key autoincrement,\n",
    "        title varchar(100) not null,\n",
    "        genre_id integer,\n",
    "        publication_year integer,\n",
    "        foreign key (genre_id) references genres(id)\n",
    "        )\n",
    "        ''',\n",
    "    \"book_stats\":'''\n",
    "        create table if not exists book_stats(\n",
    "            id integer primary key autoincrement,\n",
    "            book_id integer,\n",
    "            rating real,\n",
    "            votes integer,\n",
    "            revenue_millions real,\n",
    "            foreign key (book_id) references books(id)\n",
    "        )\n",
    "    '''\n",
    "}\n"
   ]
  },
  {
   "cell_type": "code",
   "execution_count": null,
   "id": "f5bb4633",
   "metadata": {},
   "outputs": [
    {
     "name": "stdout",
     "output_type": "stream",
     "text": [
      "Table genres is created(if not exists)\n",
      "Table books is created(if not exists)\n",
      "Table book_stats is created(if not exists)\n"
     ]
    }
   ],
   "source": [
    "for table_name,query in tables.items():\n",
    "    cursor.execute(query)\n",
    "    print(f\"Table {table_name} is created(if not exists)\")\n",
    "\n",
    "connection.commit()\n",
    "connection.close()"
   ]
  },
  {
   "cell_type": "code",
   "execution_count": 58,
   "id": "42149d02",
   "metadata": {},
   "outputs": [
    {
     "data": {
      "text/html": [
       "<div>\n",
       "<style scoped>\n",
       "    .dataframe tbody tr th:only-of-type {\n",
       "        vertical-align: middle;\n",
       "    }\n",
       "\n",
       "    .dataframe tbody tr th {\n",
       "        vertical-align: top;\n",
       "    }\n",
       "\n",
       "    .dataframe thead th {\n",
       "        text-align: right;\n",
       "    }\n",
       "</style>\n",
       "<table border=\"1\" class=\"dataframe\">\n",
       "  <thead>\n",
       "    <tr style=\"text-align: right;\">\n",
       "      <th></th>\n",
       "      <th>BookID</th>\n",
       "      <th>Title</th>\n",
       "      <th>Genre</th>\n",
       "      <th>PublicationYear</th>\n",
       "      <th>Rating</th>\n",
       "      <th>Votes</th>\n",
       "      <th>RevenueMillions</th>\n",
       "    </tr>\n",
       "  </thead>\n",
       "  <tbody>\n",
       "    <tr>\n",
       "      <th>0</th>\n",
       "      <td>0</td>\n",
       "      <td>Book 0</td>\n",
       "      <td>Romance</td>\n",
       "      <td>2011</td>\n",
       "      <td>4.2</td>\n",
       "      <td>3862</td>\n",
       "      <td>32.22</td>\n",
       "    </tr>\n",
       "    <tr>\n",
       "      <th>1</th>\n",
       "      <td>1</td>\n",
       "      <td>Book 1</td>\n",
       "      <td>Non-Fiction</td>\n",
       "      <td>2020</td>\n",
       "      <td>3.5</td>\n",
       "      <td>13170</td>\n",
       "      <td>4.41</td>\n",
       "    </tr>\n",
       "    <tr>\n",
       "      <th>2</th>\n",
       "      <td>2</td>\n",
       "      <td>Book 2</td>\n",
       "      <td>Science Fiction</td>\n",
       "      <td>1973</td>\n",
       "      <td>4.3</td>\n",
       "      <td>16332</td>\n",
       "      <td>37.19</td>\n",
       "    </tr>\n",
       "    <tr>\n",
       "      <th>3</th>\n",
       "      <td>3</td>\n",
       "      <td>Book 3</td>\n",
       "      <td>Non-Fiction</td>\n",
       "      <td>1988</td>\n",
       "      <td>4.3</td>\n",
       "      <td>397</td>\n",
       "      <td>10.51</td>\n",
       "    </tr>\n",
       "    <tr>\n",
       "      <th>4</th>\n",
       "      <td>4</td>\n",
       "      <td>Book 4</td>\n",
       "      <td>Non-Fiction</td>\n",
       "      <td>2017</td>\n",
       "      <td>3.8</td>\n",
       "      <td>46901</td>\n",
       "      <td>19.48</td>\n",
       "    </tr>\n",
       "  </tbody>\n",
       "</table>\n",
       "</div>"
      ],
      "text/plain": [
       "   BookID   Title            Genre  PublicationYear  Rating  Votes  \\\n",
       "0       0  Book 0          Romance             2011     4.2   3862   \n",
       "1       1  Book 1      Non-Fiction             2020     3.5  13170   \n",
       "2       2  Book 2  Science Fiction             1973     4.3  16332   \n",
       "3       3  Book 3      Non-Fiction             1988     4.3    397   \n",
       "4       4  Book 4      Non-Fiction             2017     3.8  46901   \n",
       "\n",
       "   RevenueMillions  \n",
       "0            32.22  \n",
       "1             4.41  \n",
       "2            37.19  \n",
       "3            10.51  \n",
       "4            19.48  "
      ]
     },
     "execution_count": 58,
     "metadata": {},
     "output_type": "execute_result"
    }
   ],
   "source": [
    "df.head()"
   ]
  },
  {
   "cell_type": "code",
   "execution_count": 92,
   "id": "e658da55",
   "metadata": {},
   "outputs": [],
   "source": [
    "connection = sqlite3.connect('database.db')\n",
    "cursor = connection.cursor()"
   ]
  },
  {
   "cell_type": "code",
   "execution_count": 96,
   "id": "735edce5",
   "metadata": {},
   "outputs": [],
   "source": [
    "# Insert genres in the genres table\n",
    "unique_genres = df['Genre'].unique()\n",
    "for genre in unique_genres:\n",
    "    cursor.execute('insert or ignore into genres (name) values (?)',(genre,))\n",
    "    connection.commit()"
   ]
  },
  {
   "cell_type": "code",
   "execution_count": 97,
   "id": "775a3b93",
   "metadata": {},
   "outputs": [
    {
     "data": {
      "text/plain": [
       "{'Romance': 1,\n",
       " 'Non-Fiction': 2,\n",
       " 'Science Fiction': 3,\n",
       " 'Mystery': 4,\n",
       " 'Fiction': 5}"
      ]
     },
     "execution_count": 97,
     "metadata": {},
     "output_type": "execute_result"
    }
   ],
   "source": [
    "# Fetch all genres id and store in dictionary\n",
    "cursor.execute('select * from genres')\n",
    "genre_map = {}\n",
    "for row in cursor.fetchall():\n",
    "    genre_map[row[1]] = row[0]\n",
    "genre_map"
   ]
  },
  {
   "cell_type": "code",
   "execution_count": 98,
   "id": "fbd42797",
   "metadata": {},
   "outputs": [
    {
     "name": "stdout",
     "output_type": "stream",
     "text": [
      "✅ Data successfully inserted into SQLite database!\n"
     ]
    }
   ],
   "source": [
    "# Insert books and books stats \n",
    "for _,row in df.iterrows():\n",
    "    cursor.execute('''\n",
    "        insert into books (title,genre_id,publication_year) values\n",
    "        (?,?,?)\n",
    "    ''',\n",
    "    (row['Title'],genre_map[row['Genre']],int(row['PublicationYear']))\n",
    "    )\n",
    "\n",
    "    book_id = cursor.lastrowid\n",
    "\n",
    "    # Insert stats\n",
    "    cursor.execute('''\n",
    "        insert into book_stats (book_id,rating,votes,revenue_millions) values\n",
    "        (?,?,?,?)\n",
    "    ''',\n",
    "    (book_id,row['Rating'],row['Votes'],row['RevenueMillions'])\n",
    "    )\n",
    "# Commit and close\n",
    "connection.commit()\n",
    "connection.close()\n",
    "print(\"✅ Data successfully inserted into SQLite database!\")"
   ]
  },
  {
   "cell_type": "markdown",
   "id": "74d1e5a0",
   "metadata": {},
   "source": [
    "# **4.Data Visualization** "
   ]
  },
  {
   "cell_type": "markdown",
   "id": "057d14ee",
   "metadata": {},
   "source": [
    "### 1. Average Book Ratings by Genre"
   ]
  },
  {
   "cell_type": "code",
   "execution_count": 108,
   "id": "09742017",
   "metadata": {},
   "outputs": [
    {
     "data": {
      "text/html": [
       "<div>\n",
       "<style scoped>\n",
       "    .dataframe tbody tr th:only-of-type {\n",
       "        vertical-align: middle;\n",
       "    }\n",
       "\n",
       "    .dataframe tbody tr th {\n",
       "        vertical-align: top;\n",
       "    }\n",
       "\n",
       "    .dataframe thead th {\n",
       "        text-align: right;\n",
       "    }\n",
       "</style>\n",
       "<table border=\"1\" class=\"dataframe\">\n",
       "  <thead>\n",
       "    <tr style=\"text-align: right;\">\n",
       "      <th></th>\n",
       "      <th>genre</th>\n",
       "      <th>avg_rating</th>\n",
       "    </tr>\n",
       "  </thead>\n",
       "  <tbody>\n",
       "    <tr>\n",
       "      <th>0</th>\n",
       "      <td>Fiction</td>\n",
       "      <td>4.03</td>\n",
       "    </tr>\n",
       "    <tr>\n",
       "      <th>1</th>\n",
       "      <td>Non-Fiction</td>\n",
       "      <td>4.01</td>\n",
       "    </tr>\n",
       "    <tr>\n",
       "      <th>2</th>\n",
       "      <td>Science Fiction</td>\n",
       "      <td>4.00</td>\n",
       "    </tr>\n",
       "    <tr>\n",
       "      <th>3</th>\n",
       "      <td>Romance</td>\n",
       "      <td>4.00</td>\n",
       "    </tr>\n",
       "    <tr>\n",
       "      <th>4</th>\n",
       "      <td>Mystery</td>\n",
       "      <td>3.98</td>\n",
       "    </tr>\n",
       "  </tbody>\n",
       "</table>\n",
       "</div>"
      ],
      "text/plain": [
       "             genre  avg_rating\n",
       "0          Fiction        4.03\n",
       "1      Non-Fiction        4.01\n",
       "2  Science Fiction        4.00\n",
       "3          Romance        4.00\n",
       "4          Mystery        3.98"
      ]
     },
     "execution_count": 108,
     "metadata": {},
     "output_type": "execute_result"
    }
   ],
   "source": [
    "import sqlite3\n",
    "import pandas as pd\n",
    "\n",
    "conn = sqlite3.connect(\"database.db\")\n",
    "\n",
    "# Example: Average rating by genre\n",
    "query = \"\"\"\n",
    "SELECT g.name AS genre,\n",
    "       ROUND(AVG(bs.rating), 2) AS avg_rating\n",
    "FROM genres g\n",
    "JOIN books b ON g.id = b.genre_id\n",
    "JOIN book_stats bs ON b.id = bs.book_id\n",
    "GROUP BY g.name\n",
    "ORDER BY avg_rating DESC;\n",
    "\"\"\"\n",
    "df_avg_rating = pd.read_sql(query, conn)\n",
    "df_avg_rating\n"
   ]
  },
  {
   "cell_type": "markdown",
   "id": "37b39bb8",
   "metadata": {},
   "source": [
    "### 2. Top-Rated Books by Year"
   ]
  },
  {
   "cell_type": "code",
   "execution_count": 109,
   "id": "6f963f03",
   "metadata": {},
   "outputs": [
    {
     "data": {
      "text/html": [
       "<div>\n",
       "<style scoped>\n",
       "    .dataframe tbody tr th:only-of-type {\n",
       "        vertical-align: middle;\n",
       "    }\n",
       "\n",
       "    .dataframe tbody tr th {\n",
       "        vertical-align: top;\n",
       "    }\n",
       "\n",
       "    .dataframe thead th {\n",
       "        text-align: right;\n",
       "    }\n",
       "</style>\n",
       "<table border=\"1\" class=\"dataframe\">\n",
       "  <thead>\n",
       "    <tr style=\"text-align: right;\">\n",
       "      <th></th>\n",
       "      <th>publication_year</th>\n",
       "      <th>title</th>\n",
       "      <th>top_rating</th>\n",
       "    </tr>\n",
       "  </thead>\n",
       "  <tbody>\n",
       "    <tr>\n",
       "      <th>0</th>\n",
       "      <td>1950</td>\n",
       "      <td>Book 5836</td>\n",
       "      <td>6.9</td>\n",
       "    </tr>\n",
       "    <tr>\n",
       "      <th>1</th>\n",
       "      <td>1951</td>\n",
       "      <td>Book 8898</td>\n",
       "      <td>5.7</td>\n",
       "    </tr>\n",
       "    <tr>\n",
       "      <th>2</th>\n",
       "      <td>1952</td>\n",
       "      <td>Book 6663</td>\n",
       "      <td>5.9</td>\n",
       "    </tr>\n",
       "    <tr>\n",
       "      <th>3</th>\n",
       "      <td>1953</td>\n",
       "      <td>Book 9560</td>\n",
       "      <td>5.9</td>\n",
       "    </tr>\n",
       "    <tr>\n",
       "      <th>4</th>\n",
       "      <td>1954</td>\n",
       "      <td>Book 5053</td>\n",
       "      <td>5.7</td>\n",
       "    </tr>\n",
       "    <tr>\n",
       "      <th>...</th>\n",
       "      <td>...</td>\n",
       "      <td>...</td>\n",
       "      <td>...</td>\n",
       "    </tr>\n",
       "    <tr>\n",
       "      <th>69</th>\n",
       "      <td>2019</td>\n",
       "      <td>Book 1193</td>\n",
       "      <td>5.6</td>\n",
       "    </tr>\n",
       "    <tr>\n",
       "      <th>70</th>\n",
       "      <td>2020</td>\n",
       "      <td>Book 6448</td>\n",
       "      <td>6.1</td>\n",
       "    </tr>\n",
       "    <tr>\n",
       "      <th>71</th>\n",
       "      <td>2021</td>\n",
       "      <td>Book 5570</td>\n",
       "      <td>6.0</td>\n",
       "    </tr>\n",
       "    <tr>\n",
       "      <th>72</th>\n",
       "      <td>2022</td>\n",
       "      <td>Book 4774</td>\n",
       "      <td>5.7</td>\n",
       "    </tr>\n",
       "    <tr>\n",
       "      <th>73</th>\n",
       "      <td>2023</td>\n",
       "      <td>Book 6205</td>\n",
       "      <td>5.8</td>\n",
       "    </tr>\n",
       "  </tbody>\n",
       "</table>\n",
       "<p>74 rows × 3 columns</p>\n",
       "</div>"
      ],
      "text/plain": [
       "    publication_year      title  top_rating\n",
       "0               1950  Book 5836         6.9\n",
       "1               1951  Book 8898         5.7\n",
       "2               1952  Book 6663         5.9\n",
       "3               1953  Book 9560         5.9\n",
       "4               1954  Book 5053         5.7\n",
       "..               ...        ...         ...\n",
       "69              2019  Book 1193         5.6\n",
       "70              2020  Book 6448         6.1\n",
       "71              2021  Book 5570         6.0\n",
       "72              2022  Book 4774         5.7\n",
       "73              2023  Book 6205         5.8\n",
       "\n",
       "[74 rows x 3 columns]"
      ]
     },
     "execution_count": 109,
     "metadata": {},
     "output_type": "execute_result"
    }
   ],
   "source": [
    "query ='''\n",
    "SELECT b.publication_year,\n",
    "       b.title,\n",
    "       MAX(bs.rating) AS top_rating\n",
    "FROM books b\n",
    "JOIN book_stats bs ON b.id = bs.book_id\n",
    "GROUP BY b.publication_year\n",
    "ORDER BY b.publication_year, top_rating DESC;\n",
    "\n",
    "'''\n",
    "df_top_books = pd.read_sql(query, conn)\n",
    "df_top_books\n"
   ]
  },
  {
   "cell_type": "markdown",
   "id": "df36ff9e",
   "metadata": {},
   "source": [
    "### 3. Revenue vs. Votes (Scatter Data)"
   ]
  },
  {
   "cell_type": "code",
   "execution_count": 110,
   "id": "2d5cbc4f",
   "metadata": {},
   "outputs": [
    {
     "data": {
      "text/html": [
       "<div>\n",
       "<style scoped>\n",
       "    .dataframe tbody tr th:only-of-type {\n",
       "        vertical-align: middle;\n",
       "    }\n",
       "\n",
       "    .dataframe tbody tr th {\n",
       "        vertical-align: top;\n",
       "    }\n",
       "\n",
       "    .dataframe thead th {\n",
       "        text-align: right;\n",
       "    }\n",
       "</style>\n",
       "<table border=\"1\" class=\"dataframe\">\n",
       "  <thead>\n",
       "    <tr style=\"text-align: right;\">\n",
       "      <th></th>\n",
       "      <th>title</th>\n",
       "      <th>votes</th>\n",
       "      <th>revenue_millions</th>\n",
       "    </tr>\n",
       "  </thead>\n",
       "  <tbody>\n",
       "    <tr>\n",
       "      <th>0</th>\n",
       "      <td>Book 0</td>\n",
       "      <td>3862</td>\n",
       "      <td>32.22</td>\n",
       "    </tr>\n",
       "    <tr>\n",
       "      <th>1</th>\n",
       "      <td>Book 1</td>\n",
       "      <td>13170</td>\n",
       "      <td>4.41</td>\n",
       "    </tr>\n",
       "    <tr>\n",
       "      <th>2</th>\n",
       "      <td>Book 2</td>\n",
       "      <td>16332</td>\n",
       "      <td>37.19</td>\n",
       "    </tr>\n",
       "    <tr>\n",
       "      <th>3</th>\n",
       "      <td>Book 3</td>\n",
       "      <td>397</td>\n",
       "      <td>10.51</td>\n",
       "    </tr>\n",
       "    <tr>\n",
       "      <th>4</th>\n",
       "      <td>Book 4</td>\n",
       "      <td>46901</td>\n",
       "      <td>19.48</td>\n",
       "    </tr>\n",
       "    <tr>\n",
       "      <th>...</th>\n",
       "      <td>...</td>\n",
       "      <td>...</td>\n",
       "      <td>...</td>\n",
       "    </tr>\n",
       "    <tr>\n",
       "      <th>9995</th>\n",
       "      <td>Book 9995</td>\n",
       "      <td>44900</td>\n",
       "      <td>46.90</td>\n",
       "    </tr>\n",
       "    <tr>\n",
       "      <th>9996</th>\n",
       "      <td>Book 9996</td>\n",
       "      <td>48558</td>\n",
       "      <td>28.66</td>\n",
       "    </tr>\n",
       "    <tr>\n",
       "      <th>9997</th>\n",
       "      <td>Book 9997</td>\n",
       "      <td>10436</td>\n",
       "      <td>32.12</td>\n",
       "    </tr>\n",
       "    <tr>\n",
       "      <th>9998</th>\n",
       "      <td>Book 9998</td>\n",
       "      <td>12546</td>\n",
       "      <td>28.99</td>\n",
       "    </tr>\n",
       "    <tr>\n",
       "      <th>9999</th>\n",
       "      <td>Book 9999</td>\n",
       "      <td>11361</td>\n",
       "      <td>39.26</td>\n",
       "    </tr>\n",
       "  </tbody>\n",
       "</table>\n",
       "<p>10000 rows × 3 columns</p>\n",
       "</div>"
      ],
      "text/plain": [
       "          title  votes  revenue_millions\n",
       "0        Book 0   3862             32.22\n",
       "1        Book 1  13170              4.41\n",
       "2        Book 2  16332             37.19\n",
       "3        Book 3    397             10.51\n",
       "4        Book 4  46901             19.48\n",
       "...         ...    ...               ...\n",
       "9995  Book 9995  44900             46.90\n",
       "9996  Book 9996  48558             28.66\n",
       "9997  Book 9997  10436             32.12\n",
       "9998  Book 9998  12546             28.99\n",
       "9999  Book 9999  11361             39.26\n",
       "\n",
       "[10000 rows x 3 columns]"
      ]
     },
     "execution_count": 110,
     "metadata": {},
     "output_type": "execute_result"
    }
   ],
   "source": [
    "query = '''\n",
    "SELECT b.title,\n",
    "       bs.votes,\n",
    "       bs.revenue_millions\n",
    "FROM books b\n",
    "JOIN book_stats bs ON b.id = bs.book_id;\n",
    "\n",
    "'''\n",
    "df_book_stats = pd.read_sql(query, conn)\n",
    "df_book_stats\n"
   ]
  },
  {
   "cell_type": "markdown",
   "id": "bc9497a7",
   "metadata": {},
   "source": [
    "### 4. Book Count by Genre Over the Years"
   ]
  },
  {
   "cell_type": "code",
   "execution_count": 111,
   "id": "e8700707",
   "metadata": {},
   "outputs": [
    {
     "data": {
      "text/html": [
       "<div>\n",
       "<style scoped>\n",
       "    .dataframe tbody tr th:only-of-type {\n",
       "        vertical-align: middle;\n",
       "    }\n",
       "\n",
       "    .dataframe tbody tr th {\n",
       "        vertical-align: top;\n",
       "    }\n",
       "\n",
       "    .dataframe thead th {\n",
       "        text-align: right;\n",
       "    }\n",
       "</style>\n",
       "<table border=\"1\" class=\"dataframe\">\n",
       "  <thead>\n",
       "    <tr style=\"text-align: right;\">\n",
       "      <th></th>\n",
       "      <th>publication_year</th>\n",
       "      <th>genre</th>\n",
       "      <th>book_count</th>\n",
       "    </tr>\n",
       "  </thead>\n",
       "  <tbody>\n",
       "    <tr>\n",
       "      <th>0</th>\n",
       "      <td>1950</td>\n",
       "      <td>Fiction</td>\n",
       "      <td>22</td>\n",
       "    </tr>\n",
       "    <tr>\n",
       "      <th>1</th>\n",
       "      <td>1950</td>\n",
       "      <td>Mystery</td>\n",
       "      <td>32</td>\n",
       "    </tr>\n",
       "    <tr>\n",
       "      <th>2</th>\n",
       "      <td>1950</td>\n",
       "      <td>Non-Fiction</td>\n",
       "      <td>22</td>\n",
       "    </tr>\n",
       "    <tr>\n",
       "      <th>3</th>\n",
       "      <td>1950</td>\n",
       "      <td>Romance</td>\n",
       "      <td>21</td>\n",
       "    </tr>\n",
       "    <tr>\n",
       "      <th>4</th>\n",
       "      <td>1950</td>\n",
       "      <td>Science Fiction</td>\n",
       "      <td>29</td>\n",
       "    </tr>\n",
       "    <tr>\n",
       "      <th>...</th>\n",
       "      <td>...</td>\n",
       "      <td>...</td>\n",
       "      <td>...</td>\n",
       "    </tr>\n",
       "    <tr>\n",
       "      <th>365</th>\n",
       "      <td>2023</td>\n",
       "      <td>Fiction</td>\n",
       "      <td>29</td>\n",
       "    </tr>\n",
       "    <tr>\n",
       "      <th>366</th>\n",
       "      <td>2023</td>\n",
       "      <td>Mystery</td>\n",
       "      <td>31</td>\n",
       "    </tr>\n",
       "    <tr>\n",
       "      <th>367</th>\n",
       "      <td>2023</td>\n",
       "      <td>Non-Fiction</td>\n",
       "      <td>29</td>\n",
       "    </tr>\n",
       "    <tr>\n",
       "      <th>368</th>\n",
       "      <td>2023</td>\n",
       "      <td>Romance</td>\n",
       "      <td>33</td>\n",
       "    </tr>\n",
       "    <tr>\n",
       "      <th>369</th>\n",
       "      <td>2023</td>\n",
       "      <td>Science Fiction</td>\n",
       "      <td>28</td>\n",
       "    </tr>\n",
       "  </tbody>\n",
       "</table>\n",
       "<p>370 rows × 3 columns</p>\n",
       "</div>"
      ],
      "text/plain": [
       "     publication_year            genre  book_count\n",
       "0                1950          Fiction          22\n",
       "1                1950          Mystery          32\n",
       "2                1950      Non-Fiction          22\n",
       "3                1950          Romance          21\n",
       "4                1950  Science Fiction          29\n",
       "..                ...              ...         ...\n",
       "365              2023          Fiction          29\n",
       "366              2023          Mystery          31\n",
       "367              2023      Non-Fiction          29\n",
       "368              2023          Romance          33\n",
       "369              2023  Science Fiction          28\n",
       "\n",
       "[370 rows x 3 columns]"
      ]
     },
     "execution_count": 111,
     "metadata": {},
     "output_type": "execute_result"
    }
   ],
   "source": [
    "query = '''\n",
    "SELECT b.publication_year,\n",
    "       g.name AS genre,\n",
    "       COUNT(*) AS book_count\n",
    "FROM books b\n",
    "JOIN genres g ON g.id = b.genre_id\n",
    "GROUP BY b.publication_year, g.name\n",
    "ORDER BY b.publication_year, g.name;\n",
    "\n",
    "'''\n",
    "df_genre_counts = pd.read_sql(query, conn)\n",
    "df_genre_counts\n"
   ]
  }
 ],
 "metadata": {
  "kernelspec": {
   "display_name": "python_ml",
   "language": "python",
   "name": "python3"
  },
  "language_info": {
   "codemirror_mode": {
    "name": "ipython",
    "version": 3
   },
   "file_extension": ".py",
   "mimetype": "text/x-python",
   "name": "python",
   "nbconvert_exporter": "python",
   "pygments_lexer": "ipython3",
   "version": "3.11.11"
  }
 },
 "nbformat": 4,
 "nbformat_minor": 5
}
